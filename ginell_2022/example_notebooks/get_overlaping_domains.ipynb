{
 "cells": [
  {
   "cell_type": "code",
   "execution_count": 39,
   "id": "36b3fcf7-1307-4268-a068-99e40a46df11",
   "metadata": {},
   "outputs": [],
   "source": [
    "import numpy as np\n",
    "\n",
    "import shephard\n",
    "from shephard import Proteome\n",
    "from shephard.tools import domain_tools"
   ]
  },
  {
   "cell_type": "code",
   "execution_count": 40,
   "id": "dfbfdf17-b385-44b7-8021-26bf6c90e96f",
   "metadata": {},
   "outputs": [],
   "source": [
    "# define empty proteome\n",
    "new_prot = Proteome([])\n",
    "\n",
    "# add a example protein\n",
    "seq = 'NQGSNMGGGMNFGAFSINPAMMAAAQAALQSSWGMMGMLASQQNQSGPSGNNQNQGNMQREPNQAFGSGNNSYSGSNSGAAIGWGSASNAGSGSGFNGGFGSSMDSKSSGWGM'\n",
    "new_prot.add_protein(seq, 'seq1', 'seq_001')"
   ]
  },
  {
   "cell_type": "code",
   "execution_count": 41,
   "id": "70ddc613-e146-47ed-aa1e-5c545baaed59",
   "metadata": {},
   "outputs": [
    {
     "name": "stdout",
     "output_type": "stream",
     "text": [
      "['N-Terminus_1_5', 'target_region_23_52', 'other_region_45_101', 'C-Terminus_100_113']\n"
     ]
    }
   ],
   "source": [
    "# add several domains\n",
    "protein = new_prot.protein('seq_001')\n",
    "\n",
    "protein.add_domain(1,5,'N-Terminus')\n",
    "protein.add_domain(23,52,'target_region')\n",
    "protein.add_domain(45,101,'other_region')\n",
    "protein.add_domain(100,113,'C-Terminus')\n",
    "\n",
    "print(protein.domain_names)"
   ]
  },
  {
   "cell_type": "markdown",
   "id": "6aa8d8b0-83f9-4107-ac75-addad9f859cb",
   "metadata": {},
   "source": [
    "#### evaluate for domain overlap"
   ]
  },
  {
   "cell_type": "code",
   "execution_count": 49,
   "id": "d98af693-2788-4963-9b88-7db86185dc0b",
   "metadata": {},
   "outputs": [
    {
     "name": "stdout",
     "output_type": "stream",
     "text": [
      "overlap of domains  C-terminus  and target_region: False\n",
      "overlap of domains other_region and target_region: True\n"
     ]
    }
   ],
   "source": [
    "## USE BUILD IN DOMAIN FUNCTION ##\n",
    "\n",
    "# overlap between C-terminus and target_region\n",
    "result1 = protein.domain('target_region_23_52').domain_overlap(protein.domain('C-Terminus_100_113'))\n",
    "print('overlap of domains  C-terminus  and target_region:', result1)\n",
    "\n",
    "# overlap between C-terminus and target_region\n",
    "result2 = protein.domain('other_region_45_101').domain_overlap(protein.domain('target_region_23_52'))\n",
    "print('overlap of domains other_region and target_region:', result2)"
   ]
  },
  {
   "cell_type": "code",
   "execution_count": 53,
   "id": "b19a0f7f-89a3-481c-8747-bfe1b89c8a4b",
   "metadata": {},
   "outputs": [
    {
     "name": "stdout",
     "output_type": "stream",
     "text": [
      "overlap of domains  C-terminus  and target_region: False\n",
      "overlap of domains other_region and target_region: True\n",
      "overlap fraction of domains  C-terminus  and target_region: 0.0\n",
      "overlap fraction of domains other_region and target_region: -0.23333333333333334\n"
     ]
    }
   ],
   "source": [
    "## USE DOMAIN TOOLS DIRECTLY ##\n",
    "\n",
    "## by position ##\n",
    "\n",
    "domain1 = protein.domain('target_region_23_52')\n",
    "domain2 = protein.domain('C-Terminus_100_113')\n",
    "domain3 = protein.domain('other_region_45_101')\n",
    "\n",
    "# overlap between C-terminus and target_region\n",
    "result1 = domain_tools.domain_overlap_by_position(domain1.start, domain1.end, domain2.start, domain2.end)\n",
    "print('overlap of domains  C-terminus  and target_region:', result1)\n",
    "\n",
    "# overlap between C-terminus and target_region\n",
    "result2 = domain_tools.domain_overlap_by_position(domain3.start, domain3.end, domain1.start, domain1.end)\n",
    "print('overlap of domains other_region and target_region:', result2)\n",
    "\n",
    "## by overlap fraction ##\n",
    "\n",
    "domain1 = protein.domain('target_region_23_52')\n",
    "domain2 = protein.domain('C-Terminus_100_113')\n",
    "domain3 = protein.domain('other_region_45_101')\n",
    "\n",
    "# overlap between C-terminus and target_region\n",
    "result1 = domain_tools.domain_overlap_fraction(domain1, domain2)\n",
    "print('overlap fraction of domains  C-terminus  and target_region:', result1)\n",
    "\n",
    "# overlap between C-terminus and target_region\n",
    "result2 = domain_tools.domain_overlap_fraction(domain3, domain1)\n",
    "print('overlap fraction of domains other_region and target_region:', result2)"
   ]
  },
  {
   "cell_type": "code",
   "execution_count": null,
   "id": "c7b1b978-6209-4d1a-b3a3-de86379f6ed5",
   "metadata": {},
   "outputs": [],
   "source": []
  }
 ],
 "metadata": {
  "kernelspec": {
   "display_name": "Python 3 (ipykernel)",
   "language": "python",
   "name": "python3"
  },
  "language_info": {
   "codemirror_mode": {
    "name": "ipython",
    "version": 3
   },
   "file_extension": ".py",
   "mimetype": "text/x-python",
   "name": "python",
   "nbconvert_exporter": "python",
   "pygments_lexer": "ipython3",
   "version": "3.7.6"
  }
 },
 "nbformat": 4,
 "nbformat_minor": 5
}
