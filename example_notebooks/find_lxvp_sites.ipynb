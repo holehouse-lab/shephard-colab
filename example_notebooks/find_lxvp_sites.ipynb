{
 "cells": [
  {
   "cell_type": "code",
   "execution_count": 8,
   "id": "f166a000-0c27-4fd8-adb4-73e536030e86",
   "metadata": {},
   "outputs": [],
   "source": [
    "from shephard.apis import uniprot\n",
    "from shephard.interfaces import si_domains\n",
    "from shephard.tools import sequence_tools"
   ]
  },
  {
   "cell_type": "code",
   "execution_count": 30,
   "id": "75d533a5",
   "metadata": {},
   "outputs": [],
   "source": [
    "human_proteome = uniprot.uniprot_fasta_to_proteome('../shprd_data/human_proteome_validated.fasta')\n",
    "si_domains.add_domains_from_file(human_proteome, '../shprd_data/shprd_domains_human_IDRs_0.420.tsv')"
   ]
  },
  {
   "cell_type": "code",
   "execution_count": 31,
   "id": "7036a33b",
   "metadata": {},
   "outputs": [
    {
     "data": {
      "text/plain": [
       "[4]"
      ]
     },
     "execution_count": 31,
     "metadata": {},
     "output_type": "execute_result"
    }
   ],
   "source": [
    "sequence_tools.find_string_positions('L.VP','AAALAVPAAAA')"
   ]
  },
  {
   "cell_type": "code",
   "execution_count": 32,
   "id": "2743fec8-6bd8-42b0-84da-282518a23815",
   "metadata": {},
   "outputs": [],
   "source": [
    "# get sites in HUMAN IDRS\n",
    "for protein in human_proteome:\n",
    "    for domain in protein.domains:\n",
    "        lxvp_list = sequence_tools.find_string_positions('L.VP', domain.sequence)\n",
    "        for i in lxvp_list:\n",
    "            protein.add_site(i, 'L.VP')"
   ]
  },
  {
   "cell_type": "code",
   "execution_count": 33,
   "id": "cd39b569-18fe-4aab-b7cf-0649f96bb293",
   "metadata": {},
   "outputs": [
    {
     "name": "stdout",
     "output_type": "stream",
     "text": [
      "Number of L*VP Sites found: 752\n"
     ]
    }
   ],
   "source": [
    "print('Number of L*VP Sites found:', len(human_proteome.get_sites_by_type('L.VP')))"
   ]
  },
  {
   "cell_type": "code",
   "execution_count": null,
   "id": "bae3d470-ef42-4594-ac1d-806a9ab9ceb4",
   "metadata": {},
   "outputs": [],
   "source": []
  }
 ],
 "metadata": {
  "kernelspec": {
   "display_name": "Python 3 (ipykernel)",
   "language": "python",
   "name": "python3"
  },
  "language_info": {
   "codemirror_mode": {
    "name": "ipython",
    "version": 3
   },
   "file_extension": ".py",
   "mimetype": "text/x-python",
   "name": "python",
   "nbconvert_exporter": "python",
   "pygments_lexer": "ipython3",
   "version": "3.7.6"
  }
 },
 "nbformat": 4,
 "nbformat_minor": 5
}
