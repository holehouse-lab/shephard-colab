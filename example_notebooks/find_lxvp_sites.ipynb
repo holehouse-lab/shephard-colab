{
 "cells": [
  {
   "cell_type": "code",
   "execution_count": 42,
   "id": "f166a000-0c27-4fd8-adb4-73e536030e86",
   "metadata": {},
   "outputs": [],
   "source": [
    "from shephard.apis import uniprot\n",
    "from shephard.interfaces import si_domains\n",
    "from shephard.tools import sequence_tools"
   ]
  },
  {
   "cell_type": "code",
   "execution_count": 43,
   "id": "75d533a5",
   "metadata": {},
   "outputs": [],
   "source": [
    "human_proteome = uniprot.uniprot_fasta_to_proteome('../shprd_data/human_proteome_validated.fasta')\n",
    "si_domains.add_domains_from_file(human_proteome, '../shprd_data/shprd_domains_human_IDRs_0.420.tsv')"
   ]
  },
  {
   "cell_type": "code",
   "execution_count": 44,
   "id": "7036a33b",
   "metadata": {},
   "outputs": [
    {
     "name": "stdout",
     "output_type": "stream",
     "text": [
      "[4]\n",
      "[4]\n"
     ]
    }
   ],
   "source": [
    "print(sequence_tools.find_string_positions('L.VP','AAALAVPAAAA'))\n",
    "print(sequence_tools.find_string_positions('P.I.IT','AAAPAIMITPAAAA'))"
   ]
  },
  {
   "cell_type": "code",
   "execution_count": 45,
   "id": "2743fec8-6bd8-42b0-84da-282518a23815",
   "metadata": {},
   "outputs": [],
   "source": [
    "# get sites in HUMAN IDRS\n",
    "for protein in human_proteome:\n",
    "    for domain in protein.domains:\n",
    "        lxvp_list = sequence_tools.find_string_positions('L.VP', domain.sequence)\n",
    "        PxIxIT_list = sequence_tools.find_string_positions('P.I.IT', domain.sequence)\n",
    "        for i in lxvp_list:\n",
    "            protein.add_site(i, 'L.VP')\n",
    "        for i in PxIxIT_list:\n",
    "            protein.add_site(i, 'P.I.IT')\n",
    "            "
   ]
  },
  {
   "cell_type": "code",
   "execution_count": 46,
   "id": "cd39b569-18fe-4aab-b7cf-0649f96bb293",
   "metadata": {},
   "outputs": [
    {
     "name": "stdout",
     "output_type": "stream",
     "text": [
      "Number of L*VP Sites found: 752\n",
      "Number of P*I*IT Sites found: 22\n"
     ]
    }
   ],
   "source": [
    "print('Number of L*VP Sites found:', len(human_proteome.get_sites_by_type('L.VP')))\n",
    "print('Number of P*I*IT Sites found:', len(human_proteome.get_sites_by_type('P.I.IT')))"
   ]
  },
  {
   "cell_type": "code",
   "execution_count": 52,
   "id": "bae3d470-ef42-4594-ac1d-806a9ab9ceb4",
   "metadata": {},
   "outputs": [
    {
     "name": "stdout",
     "output_type": "stream",
     "text": [
      "| Protein: P11137 - L=1827, #t=0, #d=6, #s=2, #a=0 |\n",
      "[|Site: L.VP @ 245 in protein P11137, |Site: P.I.IT @ 137 in protein P11137]\n",
      "\n",
      "| Protein: O95886 - L=979, #t=0, #d=4, #s=2, #a=0 |\n",
      "[|Site: L.VP @ 368 in protein O95886, |Site: P.I.IT @ 26 in protein O95886]\n",
      "\n",
      "| Protein: C9J069 - L=976, #t=0, #d=2, #s=2, #a=0 |\n",
      "[|Site: L.VP @ 225 in protein C9J069, |Site: P.I.IT @ 531 in protein C9J069]\n",
      "\n",
      "| Protein: Q09666 - L=5890, #t=0, #d=23, #s=3, #a=0 |\n",
      "[|Site: L.VP @ 140 in protein Q09666, |Site: L.VP @ 232 in protein Q09666, |Site: P.I.IT @ 108 in protein Q09666]\n",
      "\n",
      "| Protein: Q14207 - L=1427, #t=0, #d=7, #s=2, #a=0 |\n",
      "[|Site: P.I.IT @ 17 in protein Q14207, |Site: L.VP @ 281 in protein Q14207]\n",
      "\n"
     ]
    }
   ],
   "source": [
    "# get proteins with both LXVP and PXIXIT motifs \n",
    "for s in human_proteome.get_sites_by_type('P.I.IT'):\n",
    "    if  'L.VP' in s.protein.site_types:\n",
    "        print(s.protein)\n",
    "        print(s.protein.sites, '\\n')"
   ]
  },
  {
   "cell_type": "code",
   "execution_count": null,
   "id": "a6370ccc-eab1-4115-8f31-72c539304c03",
   "metadata": {},
   "outputs": [],
   "source": []
  }
 ],
 "metadata": {
  "kernelspec": {
   "display_name": "Python 3 (ipykernel)",
   "language": "python",
   "name": "python3"
  },
  "language_info": {
   "codemirror_mode": {
    "name": "ipython",
    "version": 3
   },
   "file_extension": ".py",
   "mimetype": "text/x-python",
   "name": "python",
   "nbconvert_exporter": "python",
   "pygments_lexer": "ipython3",
   "version": "3.7.6"
  }
 },
 "nbformat": 4,
 "nbformat_minor": 5
}
