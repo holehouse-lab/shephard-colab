{
 "cells": [
  {
   "cell_type": "code",
   "execution_count": 42,
   "id": "87e5e35e-6c03-4e53-b166-2822bb0391a9",
   "metadata": {},
   "outputs": [],
   "source": [
    "import shephard\n",
    "from shephard.proteome import Proteome\n",
    "from shephard.interfaces import si_sites, si_proteins \n",
    "\n",
    "from collections import Counter"
   ]
  },
  {
   "cell_type": "code",
   "execution_count": 38,
   "id": "d7a774a3-255e-44ca-af64-46e69aae2958",
   "metadata": {},
   "outputs": [
    {
     "name": "stdout",
     "output_type": "stream",
     "text": [
      "Reading in human proteome...\n",
      "Reading in all PTMs...\n"
     ]
    }
   ],
   "source": [
    "print('Reading in human proteome...')\n",
    "test_prot = shephard.proteome.Proteome([])\n",
    "si_proteins.add_proteins_from_file(test_prot,'../shprd_data/shprd_proteins_filtered_human_af2_f1acc.tsv')\n",
    "\n",
    "print('Reading in all PTMs...')\n",
    "si_sites.add_sites_from_file(test_prot, '../shprd_data/shprd_sites_filtered_proteomescout.tsv')"
   ]
  },
  {
   "cell_type": "code",
   "execution_count": 39,
   "id": "31883de0-e215-476b-bc30-28abf60d395f",
   "metadata": {},
   "outputs": [],
   "source": [
    "# iterate all Dimethylation in proteome \n",
    "regional_sites_near_dimethylation = []\n",
    "\n",
    "for s in test_prot.get_sites_by_type('Dimethylation'):\n",
    "    try:\n",
    "        local_sites_within_2resis = s.protein.get_sites_by_range(s.position-2,s.position+2)\n",
    "    except Exception:\n",
    "        if s.position-2 < 1:\n",
    "            local_sites_within_2resis = s.protein.get_sites_by_range(s.position,s.position+2)\n",
    "        else:\n",
    "            local_sites_within_2resis = s.protein.get_sites_by_range(s.position-2,s.position)\n",
    "            \n",
    "    regional_sites_near_dimethylation.extend(sum(local_sites_within_2resis.values(),[]))\n",
    "    \n",
    "test_prot.add_attribute('regional_sites_near_dimethylation', regional_sites_near_dimethylation)"
   ]
  },
  {
   "cell_type": "code",
   "execution_count": 43,
   "id": "8909f5ce-4ad4-44bc-9b93-b9543db54778",
   "metadata": {},
   "outputs": [
    {
     "data": {
      "text/plain": [
       "Counter({'Dimethylation': 1633,\n",
       "         'Methylation': 926,\n",
       "         'Asymmetric dimethylarginine': 375,\n",
       "         'Omega-N-methylarginine': 501,\n",
       "         'Phosphoserine': 134,\n",
       "         'Ubiquitination': 12,\n",
       "         'Symmetric dimethylarginine': 19,\n",
       "         'Phosphothreonine': 38,\n",
       "         'Phosphotyrosine': 50,\n",
       "         'N6-acetyllysine': 13,\n",
       "         'Sumoylation': 1,\n",
       "         'Omega-N-methylated arginine': 8,\n",
       "         'N6-methyllysine': 3,\n",
       "         'N6,N6-dimethyllysine': 4,\n",
       "         'ADP-ribosylarginine': 1,\n",
       "         'Trimethylation': 1,\n",
       "         'Citrulline': 1,\n",
       "         'N6,N6,N6-trimethyllysine': 1,\n",
       "         'N6-crotonyl-L-lysine': 1})"
      ]
     },
     "execution_count": 43,
     "metadata": {},
     "output_type": "execute_result"
    }
   ],
   "source": [
    "# find frequency of other PTMs within 2 residues of annotated \n",
    "# dimethylation sites in the human proteome\n",
    "Counter([s.site_type for s in regional_sites_near_dimethylation])"
   ]
  }
 ],
 "metadata": {
  "kernelspec": {
   "display_name": "Python 3 (ipykernel)",
   "language": "python",
   "name": "python3"
  },
  "language_info": {
   "codemirror_mode": {
    "name": "ipython",
    "version": 3
   },
   "file_extension": ".py",
   "mimetype": "text/x-python",
   "name": "python",
   "nbconvert_exporter": "python",
   "pygments_lexer": "ipython3",
   "version": "3.7.6"
  }
 },
 "nbformat": 4,
 "nbformat_minor": 5
}
